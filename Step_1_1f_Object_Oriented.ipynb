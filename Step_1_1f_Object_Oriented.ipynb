{
  "nbformat": 4,
  "nbformat_minor": 0,
  "metadata": {
    "colab": {
      "name": "Step_1_1f_Object_Oriented",
      "provenance": [],
      "collapsed_sections": []
    },
    "kernelspec": {
      "name": "python3",
      "display_name": "Python 3"
    },
    "language_info": {
      "name": "python"
    }
  },
  "cells": [
    {
      "cell_type": "code",
      "execution_count": null,
      "metadata": {
        "id": "uGFO4x9qVEWx"
      },
      "outputs": [],
      "source": [
        "class Person:\n",
        "    pass"
      ]
    },
    {
      "cell_type": "code",
      "source": [
        "p = Person()\n",
        "print(p)"
      ],
      "metadata": {
        "colab": {
          "base_uri": "https://localhost:8080/"
        },
        "id": "yljzAZA28vwU",
        "outputId": "d1dad8e5-a714-4831-d4bf-9121677c2188"
      },
      "execution_count": null,
      "outputs": [
        {
          "output_type": "stream",
          "name": "stdout",
          "text": [
            "<__main__.Person object at 0x7fd9ccd3a450>\n"
          ]
        }
      ]
    },
    {
      "cell_type": "code",
      "source": [
        "class Person:\n",
        "   def say_hi(self):\n",
        "        print('Hello, how are you?')\n",
        "\n"
      ],
      "metadata": {
        "id": "QkYGiQNn9o2V"
      },
      "execution_count": null,
      "outputs": []
    },
    {
      "cell_type": "code",
      "source": [
        "p=Person()\n",
        "p.say_hi()"
      ],
      "metadata": {
        "colab": {
          "base_uri": "https://localhost:8080/"
        },
        "id": "2gVRRL1e9y6U",
        "outputId": "c9003bc2-15e5-4d2b-a55c-d6331a1f374e"
      },
      "execution_count": null,
      "outputs": [
        {
          "output_type": "stream",
          "name": "stdout",
          "text": [
            "Hello, how are you?\n"
          ]
        }
      ]
    },
    {
      "cell_type": "code",
      "source": [
        "class Person:\n",
        "   def __init__(self,name):\n",
        "        self.name = name\n",
        "   def say_hi(self):\n",
        "       print('Hello, my name is ', self.name)\n",
        "\n"
      ],
      "metadata": {
        "id": "lpzhnbucA6wh"
      },
      "execution_count": null,
      "outputs": []
    },
    {
      "cell_type": "code",
      "source": [
        "p = Person('Jill')\n",
        "p.say_hi()"
      ],
      "metadata": {
        "colab": {
          "base_uri": "https://localhost:8080/"
        },
        "id": "9o41qNNPA_PT",
        "outputId": "e9926d70-2fa0-4bd9-8d86-fa7dfad7de96"
      },
      "execution_count": null,
      "outputs": [
        {
          "output_type": "stream",
          "name": "stdout",
          "text": [
            "Hello, my name is  Jill\n"
          ]
        }
      ]
    },
    {
      "cell_type": "code",
      "source": [
        "def is_even(num):\n",
        "    return num % 2 == 0\n",
        "help(is_even)"
      ],
      "metadata": {
        "colab": {
          "base_uri": "https://localhost:8080/"
        },
        "id": "5QUkrbT6BngU",
        "outputId": "9d2b8482-53a8-4088-9a13-6bea3fbe23e2"
      },
      "execution_count": null,
      "outputs": [
        {
          "output_type": "stream",
          "name": "stdout",
          "text": [
            "Help on function is_even in module __main__:\n",
            "\n",
            "is_even(num)\n",
            "\n"
          ]
        }
      ]
    },
    {
      "cell_type": "code",
      "source": [
        "pi_value = 3.14\n",
        "print(\"The value of Pi is {}\".format(pi_value))"
      ],
      "metadata": {
        "colab": {
          "base_uri": "https://localhost:8080/"
        },
        "id": "lmudTOVPB9SL",
        "outputId": "a5baf8e8-cc9b-4c98-a6cf-3ced055f10fa"
      },
      "execution_count": null,
      "outputs": [
        {
          "output_type": "stream",
          "name": "stdout",
          "text": [
            "The value of Pi is 3.14\n"
          ]
        }
      ]
    },
    {
      "cell_type": "code",
      "source": [
        "class Robot:\n",
        "  \"\"\"Represents a robot, with a name.\"\"\" # Docstrings\n",
        "\n",
        "  # Class Variable: population\n",
        "  population = 0\n",
        "\n",
        "  # Constructor Function: __init__()\n",
        "  def __init__(self, name):\n",
        "      \"\"\"Initializes the data.\"\"\" # Docstrings\n",
        "      self.name = name # Object Variable\n",
        "      print(\"(Initializing {})\".format(self.name))\n",
        "\n",
        "      # When a new robot is created, the robot\n",
        "      # adds to the population\n",
        "      Robot.population += 1\n",
        "\n",
        "  # Object Method: die()\n",
        "  def die(self):\n",
        "      \"\"\"I am dying.\"\"\" # Docstrings\n",
        "      print(\"{} is being destroyed!\".format(self.name))\n",
        "\n",
        "      Robot.population -= 1\n",
        "\n",
        "      if Robot.population == 0:\n",
        "          print(\"{} was the last one.\".format(self.name))\n",
        "      else:\n",
        "          print(\"There are still {:d} robots working.\".format(\n",
        "              Robot.population))\n",
        "\n",
        "  # Object Method: say_hi()\n",
        "  def say_hi(self):\n",
        "      \"\"\"Greeting by the robot. \n",
        "      Yeah, they can do that.\"\"\" # Docstrings\n",
        "      print(\"Greetings, my masters call me {}.\".format(self.name))\n",
        "\n",
        "  # Class Method: how_many() \n",
        "  @classmethod\n",
        "  def how_many(cls):\n",
        "      \"\"\"Prints the current population.\"\"\" # Docstrings\n",
        "      print(\"We have {:d} robots.\".format(cls.population))"
      ],
      "metadata": {
        "id": "j4kWw02EClRk"
      },
      "execution_count": null,
      "outputs": []
    },
    {
      "cell_type": "code",
      "source": [
        "#------------------------------------------------------\n",
        "# Initialize Robot 1 called 'R2-D2' in `droid1`\n",
        "droid1 = Robot(\"R2-D2\")\n",
        "\n",
        "# Call the Built-In Object Function for `droid1`\n",
        "droid1.say_hi()\n",
        "\n",
        "# Call the Class Function\n",
        "Robot.how_many()\n",
        "\n",
        "#------------------------------------------------------\n",
        "# Initialize Robot 2 called 'C-3PO' \n",
        "droid2 = Robot(\"C-3PO\")\n",
        "\n",
        "# Call the Built-In Object Function for droid2\n",
        "droid2.say_hi()\n",
        "\n",
        "# Call the Class Function\n",
        "Robot.how_many()\n",
        "\n",
        "#------------------------------------------------------\n",
        "# Print a note about Robots working\n",
        "print(\"\\nRobots can do some work here.\\n\")\n",
        "\n",
        "# Print a note about destroying Robots\n",
        "print(\"Robots have finished their work. So let's destroy them.\")\n",
        "\n",
        "#------------------------------------------------------\n",
        "# Use Built-In Object Functions \n",
        "droid1.die()\n",
        "droid2.die()\n",
        "\n",
        "# Call the Class Function\n",
        "Robot.how_many()"
      ],
      "metadata": {
        "colab": {
          "base_uri": "https://localhost:8080/"
        },
        "id": "1qFw1VMiULZ-",
        "outputId": "3783131d-6aab-4224-e895-3c9036da5550"
      },
      "execution_count": null,
      "outputs": [
        {
          "output_type": "stream",
          "name": "stdout",
          "text": [
            "(Initializing R2-D2)\n",
            "Greetings, my masters call me R2-D2.\n",
            "We have 1 robots.\n",
            "(Initializing C-3PO)\n",
            "Greetings, my masters call me C-3PO.\n",
            "We have 2 robots.\n",
            "\n",
            "Robots can do some work here.\n",
            "\n",
            "Robots have finished their work. So let's destroy them.\n",
            "R2-D2 is being destroyed!\n",
            "There are still 1 robots working.\n",
            "C-3PO is being destroyed!\n",
            "C-3PO was the last one.\n",
            "We have 0 robots.\n"
          ]
        }
      ]
    },
    {
      "cell_type": "code",
      "source": [
        "class SchoolMember:\n",
        "    '''Represents any school member.'''\n",
        "    def __init__(self, name, age):\n",
        "        self.name = name\n",
        "        self.age = age\n",
        "        print('(Initialized SchoolMember: {})'.format(self.name))\n",
        "\n",
        "    def tell(self):\n",
        "        '''Tell my details.'''\n",
        "        print('Name:\"{}\" Age:\"{}\"'.format(self.name, self.age), end=\" \")\n",
        "class Teacher(SchoolMember):\n",
        "    '''Represents a teacher.'''\n",
        "    def __init__(self, name, age, salary):\n",
        "        SchoolMember.__init__(self, name, age)\n",
        "        self.salary = salary\n",
        "        print('(Initialized Teacher: {})'.format(self.name))\n",
        "\n",
        "    def tell(self):\n",
        "        SchoolMember.tell(self)\n",
        "        print('Salary: \"{:d}\"'.format(self.salary))\n",
        "class Student(SchoolMember):\n",
        "    '''Represents a student.'''\n",
        "    def __init__(self, name, age, grade):\n",
        "        SchoolMember.__init__(self, name, age)\n",
        "        self.grade = grade\n",
        "        print('(Initialized Student: {})'.format(self.name))\n",
        "\n",
        "    def tell(self):\n",
        "        SchoolMember.tell(self)\n",
        "        print('Grade: \"{:d}\"'.format(self.grade))\n",
        "# initialize `t` - teacher object \n",
        "t = Teacher('Mrs. Alyssa', 40, 30000)\n",
        "# name: Mrs. Alyssa\n",
        "# age: 40\n",
        "# salary: 30000\n",
        "\n",
        "# prints a blank line\n",
        "print()\n",
        "\n",
        "# initialize `s` - student object\n",
        "s = Student('Daniel', 25, 75)\n",
        "# name: Daniel\n",
        "# age: 25\n",
        "# grade: 75\n",
        "\n",
        "# prints a blank line\n",
        "print()\n",
        "\n",
        "members = [t, s]\n",
        "for member in members:\n",
        "    # Works for both Teachers and Students\n",
        "    member.tell()       "
      ],
      "metadata": {
        "colab": {
          "base_uri": "https://localhost:8080/"
        },
        "id": "USBzWMJoUiUe",
        "outputId": "60446041-23a1-45fa-beed-c275564668a5"
      },
      "execution_count": null,
      "outputs": [
        {
          "output_type": "stream",
          "name": "stdout",
          "text": [
            "(Initialized SchoolMember: Mrs. Alyssa)\n",
            "(Initialized Teacher: Mrs. Alyssa)\n",
            "\n",
            "(Initialized SchoolMember: Daniel)\n",
            "(Initialized Student: Daniel)\n",
            "\n",
            "Name:\"Mrs. Alyssa\" Age:\"40\" Salary: \"30000\"\n",
            "Name:\"Daniel\" Age:\"25\" Grade: \"75\"\n"
          ]
        }
      ]
    },
    {
      "cell_type": "code",
      "source": [
        "class Robot:\n",
        "\n",
        "  # constructor function\n",
        "   def __init__(self):\n",
        "      self.a = 123 # public object variable\n",
        "      self._b = 123 # private object variable (by convention - not a hard variable)\n",
        "      self.__c = 123 # Python enforced private variable\n",
        "\n",
        "# instantiate a new object \n",
        "new_robot = Robot()\n",
        "\n",
        "\n",
        "print(new_robot.a) # publicly accessible\n",
        "print(new_robot._b) # publicly accessible, but private by convention\n",
        "print(new_robot.__c) # Python enforced private variable, access throws error"
      ],
      "metadata": {
        "colab": {
          "base_uri": "https://localhost:8080/",
          "height": 235
        },
        "id": "8jfeKupKbNvb",
        "outputId": "25802676-99fe-4873-c55b-2b05330a47f2"
      },
      "execution_count": null,
      "outputs": [
        {
          "output_type": "stream",
          "name": "stdout",
          "text": [
            "123\n",
            "123\n"
          ]
        },
        {
          "output_type": "error",
          "ename": "AttributeError",
          "evalue": "ignored",
          "traceback": [
            "\u001b[0;31m---------------------------------------------------------------------------\u001b[0m",
            "\u001b[0;31mAttributeError\u001b[0m                            Traceback (most recent call last)",
            "\u001b[0;32m<ipython-input-20-4bfae167ffa9>\u001b[0m in \u001b[0;36m<module>\u001b[0;34m()\u001b[0m\n\u001b[1;32m     13\u001b[0m \u001b[0mprint\u001b[0m\u001b[0;34m(\u001b[0m\u001b[0mnew_robot\u001b[0m\u001b[0;34m.\u001b[0m\u001b[0ma\u001b[0m\u001b[0;34m)\u001b[0m \u001b[0;31m# publicly accessible\u001b[0m\u001b[0;34m\u001b[0m\u001b[0;34m\u001b[0m\u001b[0m\n\u001b[1;32m     14\u001b[0m \u001b[0mprint\u001b[0m\u001b[0;34m(\u001b[0m\u001b[0mnew_robot\u001b[0m\u001b[0;34m.\u001b[0m\u001b[0m_b\u001b[0m\u001b[0;34m)\u001b[0m \u001b[0;31m# publicly accessible, but private by convention\u001b[0m\u001b[0;34m\u001b[0m\u001b[0;34m\u001b[0m\u001b[0m\n\u001b[0;32m---> 15\u001b[0;31m \u001b[0mprint\u001b[0m\u001b[0;34m(\u001b[0m\u001b[0mnew_robot\u001b[0m\u001b[0;34m.\u001b[0m\u001b[0m__c\u001b[0m\u001b[0;34m)\u001b[0m \u001b[0;31m# Python enforced private variable, access throws error\u001b[0m\u001b[0;34m\u001b[0m\u001b[0;34m\u001b[0m\u001b[0m\n\u001b[0m",
            "\u001b[0;31mAttributeError\u001b[0m: 'Robot' object has no attribute '__c'"
          ]
        }
      ]
    },
    {
      "cell_type": "code",
      "source": [
        "class Robot:\n",
        "\n",
        "  # constructor function\n",
        "  def __init__(self):\n",
        "    self.__version = 22\n",
        "\n",
        "  # getter function\n",
        "  def getVersion(self):\n",
        "    print(self.__version)\n",
        "\n",
        "  # setter function\n",
        "  def setVersion(self, version):\n",
        "    self.__version = version\n",
        "\n",
        "# instantiate a new object called 'new_robot'\n",
        "new_robot = Robot()\n",
        "\n",
        "# use the getter function\n",
        "new_robot.getVersion()"
      ],
      "metadata": {
        "colab": {
          "base_uri": "https://localhost:8080/"
        },
        "id": "qs5AZguCbXPp",
        "outputId": "694d871a-d26e-4dd7-8846-d78c39159867"
      },
      "execution_count": null,
      "outputs": [
        {
          "output_type": "stream",
          "name": "stdout",
          "text": [
            "22\n"
          ]
        }
      ]
    },
    {
      "cell_type": "code",
      "source": [
        "# use the built in setter function\n",
        "new_robot.setVersion(23)\n",
        "\n",
        "# use the getter function again\n",
        "new_robot.getVersion()"
      ],
      "metadata": {
        "colab": {
          "base_uri": "https://localhost:8080/"
        },
        "id": "bhB9xx2JcXKK",
        "outputId": "b1b527cd-7371-49d6-d741-837fce7d71e9"
      },
      "execution_count": null,
      "outputs": [
        {
          "output_type": "stream",
          "name": "stdout",
          "text": [
            "23\n"
          ]
        }
      ]
    },
    {
      "cell_type": "code",
      "source": [
        "# but try accessing the private variable\n",
        "print(new_robot.__version) # throws error"
      ],
      "metadata": {
        "colab": {
          "base_uri": "https://localhost:8080/",
          "height": 183
        },
        "id": "gIuKCZeAcdAq",
        "outputId": "d62f57a4-a4e8-4a78-cef4-489ae396ffa2"
      },
      "execution_count": null,
      "outputs": [
        {
          "output_type": "error",
          "ename": "AttributeError",
          "evalue": "ignored",
          "traceback": [
            "\u001b[0;31m---------------------------------------------------------------------------\u001b[0m",
            "\u001b[0;31mAttributeError\u001b[0m                            Traceback (most recent call last)",
            "\u001b[0;32m<ipython-input-23-c9096edbd515>\u001b[0m in \u001b[0;36m<module>\u001b[0;34m()\u001b[0m\n\u001b[1;32m      1\u001b[0m \u001b[0;31m# but try accessing the private variable\u001b[0m\u001b[0;34m\u001b[0m\u001b[0;34m\u001b[0m\u001b[0;34m\u001b[0m\u001b[0m\n\u001b[0;32m----> 2\u001b[0;31m \u001b[0mprint\u001b[0m\u001b[0;34m(\u001b[0m\u001b[0mnew_robot\u001b[0m\u001b[0;34m.\u001b[0m\u001b[0m__version\u001b[0m\u001b[0;34m)\u001b[0m \u001b[0;31m# throws error\u001b[0m\u001b[0;34m\u001b[0m\u001b[0;34m\u001b[0m\u001b[0m\n\u001b[0m",
            "\u001b[0;31mAttributeError\u001b[0m: 'Robot' object has no attribute '__version'"
          ]
        }
      ]
    },
    {
      "cell_type": "code",
      "source": [
        "# imported abstract base class  \n",
        "\n",
        "from abc import ABC, abstractmethod \n",
        "\n",
        "# Parent Abstract Method ---------------------------------------------------\n",
        "class Polygon(ABC): \n",
        "\n",
        "\t# abstract method inside the parent Abstract Class\n",
        "\tdef noofsides(self): \n",
        "\t\tpass\n",
        "\n",
        "# Child Class #1 of Polygon Parent Abstract Class --------------------------\n",
        "class Triangle(Polygon): \n",
        "\n",
        "\t# overriding abstract method \n",
        "\tdef noofsides(self): \n",
        "\t\tprint(\"I have 3 sides\") \n",
        "\n",
        "# Child Class #2 of Polygon Parent Abstract Class --------------------------\n",
        "class Pentagon(Polygon): \n",
        "\n",
        "\t# overriding abstract method \n",
        "\tdef noofsides(self): \n",
        "\t\tprint(\"I have 5 sides\") \n",
        "\n",
        "# Child Class #3 of Polygon Parent Abstract Class --------------------------\n",
        "class Hexagon(Polygon): \n",
        "\n",
        "\t# overriding abstract method \n",
        "\tdef noofsides(self): \n",
        "\t\tprint(\"I have 6 sides\") \n",
        "\n",
        "# Child Class #4 of Polygon Parent Abstract Class --------------------------\n",
        "class Quadrilateral(Polygon): \n",
        "\n",
        "\t# overriding abstract method \n",
        "\tdef noofsides(self): \n",
        "\t\tprint(\"I have 4 sides\") "
      ],
      "metadata": {
        "id": "dm73hO9QzYqq"
      },
      "execution_count": null,
      "outputs": []
    },
    {
      "cell_type": "code",
      "source": [
        "# Create Objects from Children Classes \n",
        "\n",
        "# Triangle Child Class Object\n",
        "R = Triangle() \n",
        "R.noofsides() \n",
        "\n",
        "# Quadilateral Child Class Object\n",
        "K = Quadrilateral() \n",
        "K.noofsides() \n",
        "\n",
        "# Pentagon Child Class Object\n",
        "R = Pentagon() \n",
        "R.noofsides() \n",
        "\n",
        "# Hexagon Child Class Object\n",
        "K = Hexagon() \n",
        "K.noofsides() "
      ],
      "metadata": {
        "colab": {
          "base_uri": "https://localhost:8080/"
        },
        "id": "n0LBAXOs4qoF",
        "outputId": "7cdf49ac-a175-42ca-c6db-75786711e4c4"
      },
      "execution_count": null,
      "outputs": [
        {
          "output_type": "stream",
          "name": "stdout",
          "text": [
            "I have 3 sides\n",
            "I have 4 sides\n",
            "I have 5 sides\n",
            "I have 6 sides\n"
          ]
        }
      ]
    },
    {
      "cell_type": "code",
      "source": [
        "from abc import ABC, abstractmethod \n",
        "\n",
        "# create a parent Abstract Class\n",
        "class Parent(ABC): \n",
        "  # define concrete method in abstract class\n",
        "\tdef rk(self): \n",
        "\t\tprint(\"Abstract Base Class\") \n",
        "\n",
        "# create a child Concrete Class\n",
        "class Child(Parent): \n",
        "  # extend \n",
        "\tdef rk(self): \n",
        "\t\tsuper().rk() \n",
        "\t\tprint(\"subclass \") "
      ],
      "metadata": {
        "id": "jhzkWJvs4vgU"
      },
      "execution_count": null,
      "outputs": []
    },
    {
      "cell_type": "code",
      "source": [
        "# create new object from Concrete Class\n",
        "new_object = Child() \n",
        "new_object.rk()"
      ],
      "metadata": {
        "colab": {
          "base_uri": "https://localhost:8080/"
        },
        "id": "rsEZyOyz46lq",
        "outputId": "3d1d2be0-4cc2-41ac-8c5e-410de28a4f0c"
      },
      "execution_count": null,
      "outputs": [
        {
          "output_type": "stream",
          "name": "stdout",
          "text": [
            "Abstract Base Class\n",
            "subclass \n"
          ]
        }
      ]
    },
    {
      "cell_type": "code",
      "source": [
        "import abc \n",
        "from abc import ABC, abstractmethod \n",
        "\n",
        "# create a parent Abstract Class\n",
        "class parent(ABC): \n",
        "\t@abc.abstractproperty # abstract property\n",
        "\tdef geeks(self): \n",
        "\t\treturn \"parent class\"\n",
        "\n",
        "# create a child Concrete Class\n",
        "class child(parent): \n",
        "\t@property # reference abstact property\n",
        "\tdef geeks(self): \n",
        "\t\treturn \"child class\"\n",
        "\n",
        "try: \n",
        "\tnew_object = parent() \n",
        "\tprint(new_object.geeks) \n",
        "except Exception as err: \n",
        "\tprint (err) \n",
        "\n",
        "new_object = child() \n",
        "print(new_object.geeks) "
      ],
      "metadata": {
        "colab": {
          "base_uri": "https://localhost:8080/"
        },
        "id": "igRevPXC49iq",
        "outputId": "7a2faf9b-741f-43c8-8b0c-3b1dc8214c7b"
      },
      "execution_count": null,
      "outputs": [
        {
          "output_type": "stream",
          "name": "stdout",
          "text": [
            "Can't instantiate abstract class parent with abstract methods geeks\n",
            "child class\n"
          ]
        }
      ]
    },
    {
      "cell_type": "code",
      "source": [
        "from abc import ABC,abstractmethod \n",
        "\n",
        "class Animal(ABC): \n",
        "\t@abstractmethod\n",
        "\tdef move(self): \n",
        "\t\tpass\n",
        "\n",
        "class Human(Animal): \n",
        "\tdef move(self): \n",
        "\t\tprint(\"I can walk and run\") \n",
        "\n",
        "class Snake(Animal): \n",
        "\tdef move(self): \n",
        "\t\tprint(\"I can crawl\") \n",
        "\n",
        "class Dog(Animal): \n",
        "\tdef move(self): \n",
        "\t\tprint(\"I can bark\") \n",
        "\n",
        "class Lion(Animal): \n",
        "\tdef move(self): \n",
        "\t\tprint(\"I can roar\") \n",
        "\n",
        "cat = Animal() "
      ],
      "metadata": {
        "colab": {
          "base_uri": "https://localhost:8080/",
          "height": 200
        },
        "id": "xTcY84_I5MOa",
        "outputId": "43c2b48d-ac52-4c03-9f9d-448f04eca9d2"
      },
      "execution_count": null,
      "outputs": [
        {
          "output_type": "error",
          "ename": "TypeError",
          "evalue": "ignored",
          "traceback": [
            "\u001b[0;31m---------------------------------------------------------------------------\u001b[0m",
            "\u001b[0;31mTypeError\u001b[0m                                 Traceback (most recent call last)",
            "\u001b[0;32m<ipython-input-14-939356cd5c86>\u001b[0m in \u001b[0;36m<module>\u001b[0;34m()\u001b[0m\n\u001b[1;32m     22\u001b[0m                 \u001b[0mprint\u001b[0m\u001b[0;34m(\u001b[0m\u001b[0;34m\"I can roar\"\u001b[0m\u001b[0;34m)\u001b[0m\u001b[0;34m\u001b[0m\u001b[0;34m\u001b[0m\u001b[0m\n\u001b[1;32m     23\u001b[0m \u001b[0;34m\u001b[0m\u001b[0m\n\u001b[0;32m---> 24\u001b[0;31m \u001b[0mcat\u001b[0m \u001b[0;34m=\u001b[0m \u001b[0mAnimal\u001b[0m\u001b[0;34m(\u001b[0m\u001b[0;34m)\u001b[0m\u001b[0;34m\u001b[0m\u001b[0;34m\u001b[0m\u001b[0m\n\u001b[0m",
            "\u001b[0;31mTypeError\u001b[0m: Can't instantiate abstract class Animal with abstract methods move"
          ]
        }
      ]
    },
    {
      "cell_type": "code",
      "source": [
        "class Team:\n",
        "\n",
        "  # define constructor\n",
        "  def __init__(self, members):\n",
        "      self.__members = members\n",
        "\n",
        "  # define built-in length method\n",
        "  def __len__(self):\n",
        "      return len(self.__members)\n",
        "\n",
        "  # define membership method\n",
        "  def __contains__(self, member):\n",
        "      return member in self.__members\n",
        "\n",
        "## Instantiate object from Team Class \n",
        "justice_league_fav = Team([\"batman\", \"wonder woman\", \"flash\"])\n",
        "\n",
        "## Size protocol\n",
        "print(len(justice_league_fav))\n",
        "\n",
        "## Membership protocol\n",
        "print(\"batman\" in justice_league_fav)\n",
        "print(\"superman\" in justice_league_fav)\n",
        "print(\"cyborg\" not in justice_league_fav)\n"
      ],
      "metadata": {
        "colab": {
          "base_uri": "https://localhost:8080/"
        },
        "id": "oRyoBnjY5QQk",
        "outputId": "4ea81f34-20ee-4789-f1cd-58c703540ec0"
      },
      "execution_count": null,
      "outputs": [
        {
          "output_type": "stream",
          "name": "stdout",
          "text": [
            "3\n",
            "True\n",
            "False\n",
            "True\n"
          ]
        }
      ]
    },
    {
      "cell_type": "code",
      "source": [
        "import abc\n",
        "\n",
        "class Bird(abc.ABC):\n",
        "    @abc.abstractmethod\n",
        "    def fly(self):\n",
        "        pass"
      ],
      "metadata": {
        "id": "ssg1ePAe5SxM"
      },
      "execution_count": null,
      "outputs": []
    },
    {
      "cell_type": "code",
      "source": [
        "class Parrot(Bird):\n",
        "    def fly(self):\n",
        "        print(\"Flying\")\n",
        "\n",
        "p = Parrot()\n",
        "\n",
        "# check if p is an instance of Bird Class\n",
        "isinstance(p, Bird)"
      ],
      "metadata": {
        "colab": {
          "base_uri": "https://localhost:8080/"
        },
        "id": "wx0z9MAb5WOF",
        "outputId": "0b189f75-3f31-4ebb-a08b-115e8aaadabd"
      },
      "execution_count": null,
      "outputs": [
        {
          "output_type": "execute_result",
          "data": {
            "text/plain": [
              "True"
            ]
          },
          "metadata": {},
          "execution_count": 17
        }
      ]
    },
    {
      "cell_type": "code",
      "source": [
        "class Aeroplane(abc.ABC):\n",
        "  @abc.abstractmethod\n",
        "  def fly(self):\n",
        "    pass\n",
        "\n",
        "class Boeing(Aeroplane):\n",
        "  def fly(self):\n",
        "    print(\"Flying!\")\n",
        "\n",
        "b = Boeing()\n",
        "\n",
        "isinstance(p, Aeroplane)\n",
        "isinstance(b, Bird)"
      ],
      "metadata": {
        "colab": {
          "base_uri": "https://localhost:8080/"
        },
        "id": "EQ4RSYeR5Y2n",
        "outputId": "58aadbdd-1a31-4218-bfb1-8ab26015b668"
      },
      "execution_count": null,
      "outputs": [
        {
          "output_type": "execute_result",
          "data": {
            "text/plain": [
              "False"
            ]
          },
          "metadata": {},
          "execution_count": 18
        }
      ]
    },
    {
      "cell_type": "code",
      "source": [
        "class Apple(abc.ABC):\n",
        "  @abc.abstractmethod\n",
        "  def apple_one(self):\n",
        "    pass\n",
        "\n",
        "class Banana(abc.ABC):\n",
        "  @abc.abstractmethod\n",
        "  def banana_one(self):\n",
        "    pass\n",
        "\n",
        "## define child class from Apple and Banana\n",
        "class Fruits(Apple, Banana):\n",
        "  \n",
        "  def apple_one(self):\n",
        "    print(\"Child Class - Apple\")\n",
        "\n",
        "  def banana_one(self):\n",
        "    print(\"Child Class - Banana\")"
      ],
      "metadata": {
        "id": "7Ek6wD055bj6"
      },
      "execution_count": null,
      "outputs": []
    },
    {
      "cell_type": "code",
      "source": [
        "fruit_bowl = Fruits()\n",
        "fruit_bowl.apple_one() # call function initialized in Apple Base Class\n",
        "fruit_bowl.banana_one() # call function initialized in Banana Base Class"
      ],
      "metadata": {
        "id": "86cyqJiQ5eRp",
        "outputId": "8e839e9e-9d41-4ec1-90dc-f54bc96f05a0",
        "colab": {
          "base_uri": "https://localhost:8080/"
        }
      },
      "execution_count": null,
      "outputs": [
        {
          "output_type": "stream",
          "name": "stdout",
          "text": [
            "Child Class - Apple\n",
            "Child Class - Banana\n"
          ]
        }
      ]
    }
  ]
}